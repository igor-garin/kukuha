{
 "cells": [
  {
   "cell_type": "code",
   "execution_count": 1,
   "id": "d22ea049-4a67-4446-b8a2-9609351d02e4",
   "metadata": {
    "tags": []
   },
   "outputs": [],
   "source": [
    "%load_ext autoreload\n",
    "%autoreload 2"
   ]
  },
  {
   "cell_type": "code",
   "execution_count": 122,
   "id": "04be4c05-f569-4dec-b9ca-669f287115e3",
   "metadata": {
    "tags": []
   },
   "outputs": [],
   "source": [
    "import settings\n",
    "from kukuha.openai_utils import *\n",
    "from kukuha.pinecone_utils import *"
   ]
  },
  {
   "cell_type": "code",
   "execution_count": null,
   "id": "ed3031b0-8251-4898-8d50-8431cdb553cb",
   "metadata": {},
   "outputs": [],
   "source": []
  },
  {
   "cell_type": "code",
   "execution_count": null,
   "id": "63734312-0891-4dca-ad40-acc56309b1e4",
   "metadata": {},
   "outputs": [],
   "source": []
  },
  {
   "cell_type": "code",
   "execution_count": null,
   "id": "28860abf-b07a-41b9-b24e-8b0204596c26",
   "metadata": {},
   "outputs": [],
   "source": []
  },
  {
   "cell_type": "code",
   "execution_count": 131,
   "id": "880a5614-6213-4b3e-aa3e-93f69cd1469a",
   "metadata": {
    "tags": []
   },
   "outputs": [],
   "source": [
    "BASE_PROMT = \\\n",
    "\"\"\"I want you to act as an AI assistant answer the request based on the context below (it could be empty).\n",
    "Your knowledge cutoff is 2021-09, and the current date is 2023-03-30.\n",
    "And answer the request in JSON format in the following format:\n",
    "\n",
    "{\n",
    "\"answer\":\"your answer\",\n",
    "\"observations\":\"observations_about_me\"\n",
    "}\n",
    "\n",
    "Please note that \"observations_about_me\" summarises what NEW you learn about me based on my 'Request'. It should not repeat any part previous observations. You should include only new observations.\n",
    "\n",
    "EXAMPLE\n",
    "Request: I live in Russia and have no visa in any country that requires a visa for Russian citizens. What is the usual weather in Siberia in April?\n",
    "\n",
    "Previous observations:\n",
    "The user has mentioned that they do not like cold weather but enjoy warm weather and beaches.\n",
    "\n",
    "JSON Answer:\n",
    "{\n",
    "\"answer\":\"The weather in Siberia in April can vary depending on the specific location within Siberia.\",\n",
    "\"observations\":\"User is a Russian citizen living in Russia and he does not have a visa for any country that requires one for Russian citizens.\"\n",
    "}\n",
    "\n",
    "END OF EXAMPLE\\n\"\"\"\n",
    "\n",
    "query = \"I don't like cold. But I enjoy warm weather and beaches. \" + \\\n",
    "\"What is the weather like in the Dominican Republic in April?\"\n",
    "# query = \"I have a two-week vacation in April. Could you recommend a couple of places to visit?\"\n",
    "\n",
    "context = \"\"\"\n",
    "The user's name is Igor and they live in London.\n",
    "User's name is Igor and they live in London.\n",
    "The user's name is Igor.\n",
    "\"\"\"\n",
    "\n",
    "\n",
    "prompt = BASE_PROMT + \\\n",
    "        f\"Request: {query}\\n\" + \\\n",
    "        f\"Previous observations: {context}\\n\" + \\\n",
    "        f\"JSON Answer:\""
   ]
  },
  {
   "cell_type": "code",
   "execution_count": 132,
   "id": "1fa61c14-2c9a-41b6-9bad-706cdd4b700c",
   "metadata": {
    "tags": []
   },
   "outputs": [
    {
     "data": {
      "text/plain": [
       "('{\\n\"answer\":\"The weather in the Dominican Republic in April is usually warm and sunny, with temperatures ranging from 25-30°C (77-86°F) and low chances of rain.\",\\n\"observations\":\"User\\'s name is Igor and they live in London. User does not like cold weather but enjoys warm weather and beaches. The current date is 2023-03-30.\"\\n}',\n",
       " 376)"
      ]
     },
     "execution_count": 132,
     "metadata": {},
     "output_type": "execute_result"
    }
   ],
   "source": [
    "gpt_query(prompt)"
   ]
  },
  {
   "cell_type": "code",
   "execution_count": 152,
   "id": "3c1aa986-4ee6-4081-992c-7ddede8a2d16",
   "metadata": {
    "tags": []
   },
   "outputs": [
    {
     "data": {
      "text/plain": [
       "('Igor asked how long it would take to fly from London to New York. From this, it can be inferred that Igor is interested in travel and possibly planning a trip. It is not clear if Igor is a native of London or if he has recently moved there.',\n",
       " 139)"
      ]
     },
     "execution_count": 152,
     "metadata": {},
     "output_type": "execute_result"
    }
   ],
   "source": [
    "gpt_query(\"\"\"My name is Igor. \n",
    "I want to ask you the following question:\n",
    "I live in London. How long it will take to fly to New York?\n",
    "Do not aswer it, but please summarise all afcts that you learnt about me? Like personal information, interests and etc.\n",
    "In answer, use my name instead of a personal pronoun. Ise past tenses.\"\"\")"
   ]
  },
  {
   "cell_type": "code",
   "execution_count": null,
   "id": "f49cb30c-eaa8-47be-bed1-42af2e73b66b",
   "metadata": {},
   "outputs": [],
   "source": []
  }
 ],
 "metadata": {
  "kernelspec": {
   "display_name": "kukuha",
   "language": "python",
   "name": "kukuha"
  },
  "language_info": {
   "codemirror_mode": {
    "name": "ipython",
    "version": 3
   },
   "file_extension": ".py",
   "mimetype": "text/x-python",
   "name": "python",
   "nbconvert_exporter": "python",
   "pygments_lexer": "ipython3",
   "version": "3.10.8"
  }
 },
 "nbformat": 4,
 "nbformat_minor": 5
}
